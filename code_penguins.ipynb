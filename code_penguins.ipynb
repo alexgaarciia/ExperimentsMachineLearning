{
  "cells": [
    {
      "cell_type": "markdown",
      "metadata": {
        "id": "BpEKTF_MAYgE"
      },
      "source": [
        "# Import necessary libaries/modules"
      ]
    },
    {
      "cell_type": "code",
      "execution_count": null,
      "metadata": {
        "id": "JVzBtBwvAcUP"
      },
      "outputs": [],
      "source": [
        "import pandas as pd\n",
        "import matplotlib.pyplot as plt\n",
        "from PIL import Image\n",
        "from sklearn.preprocessing import OneHotEncoder\n",
        "from code import models_run"
      ]
    },
    {
      "cell_type": "markdown",
      "metadata": {
        "id": "i7KhN_twAk_e"
      },
      "source": [
        "# Load the Penguin and Abalone dataset"
      ]
    },
    {
      "cell_type": "code",
      "execution_count": null,
      "metadata": {
        "id": "54BTWhZXApjh"
      },
      "outputs": [],
      "source": [
        "penguin_data = pd.read_csv('./penguins.csv')\n",
        "abalone_data = pd.read_csv('./abalone.csv')"
      ]
    },
    {
      "cell_type": "markdown",
      "metadata": {},
      "source": [
        "# Exercise 1"
      ]
    },
    {
      "cell_type": "markdown",
      "metadata": {},
      "source": [
        "## 1A) METHOD 1\n",
        "Convert 'island' and 'sex' features into 1-hot vectors (dummy-coded data)\n"
      ]
    },
    {
      "cell_type": "code",
      "execution_count": null,
      "metadata": {},
      "outputs": [],
      "source": [
        "# Drop first category to avoid the 'dummy variable trap'\n",
        "encoder = OneHotEncoder(sparse_output=False, drop='first')\n",
        "\n",
        "# The fit_transform method fits the encoder to the specified columns and transforms the data simultaneously.\n",
        "encoded_island_sex = encoder.fit_transform(penguin_data[['island', 'sex']])\n",
        "\n",
        "# The resulting sparse matrix is transformed to a DataFrame\n",
        "encoded_feature_names = encoder.get_feature_names_out(['island', 'sex'])\n",
        "encoded_df = pd.DataFrame(encoded_island_sex, columns=encoded_feature_names)\n",
        "\n",
        "# Add the one-hot transformed columns to the original data and drop the original 'sex' and 'penguin' columns\n",
        "penguin_data_encoded_1hot = pd.concat([penguin_data, encoded_df], axis=1)\n",
        "penguin_data_encoded_1hot.drop(['island', 'sex'], axis=1, inplace=True)\n"
      ]
    },
    {
      "cell_type": "markdown",
      "metadata": {},
      "source": [
        "## 1A) METHOD 2\n",
        "Convert 'island' and 'sex' features into categories manually\n"
      ]
    },
    {
      "cell_type": "code",
      "execution_count": null,
      "metadata": {},
      "outputs": [],
      "source": [
        "island_mapping = {'Biscoe': 0, 'Dream': 1, 'Torgersen': 2}\n",
        "sex_mapping = {'FEMALE': 0, 'MALE': 1}\n",
        "\n",
        "# These dictionaries serve as lookup tables where the keys represent the original ones but formatted\n",
        "penguin_data['island'] = penguin_data['island'].map(island_mapping)\n",
        "penguin_data['sex'] = penguin_data['sex'].map(sex_mapping)\n",
        "\n",
        "# Now, penguin_data contains 'island' and 'sex' features in numerical format based on manual categorization."
      ]
    },
    {
      "cell_type": "markdown",
      "metadata": {},
      "source": [
        "## 1B) Determine if the Abalone dataset can be used as is; otherwise convert any features using the 2 methods above."
      ]
    },
    {
      "cell_type": "code",
      "execution_count": null,
      "metadata": {},
      "outputs": [],
      "source": [
        "abalone_data_types = abalone_data.dtypes\n",
        "print(abalone_data_types)"
      ]
    },
    {
      "cell_type": "markdown",
      "metadata": {},
      "source": [
        "# Exercise 2"
      ]
    },
    {
      "cell_type": "markdown",
      "metadata": {},
      "source": [
        "## Abalone dataset"
      ]
    },
    {
      "cell_type": "code",
      "execution_count": null,
      "metadata": {},
      "outputs": [],
      "source": [
        "# Assuming the target in 'penguin_data' is 'species'\n",
        "class_counts = penguin_data['species'].value_counts(normalize=True) * 100"
      ]
    },
    {
      "cell_type": "code",
      "execution_count": null,
      "metadata": {},
      "outputs": [],
      "source": [
        "plt.figure(figsize=(8, 6))\n",
        "class_counts.plot(kind='bar', color='skyblue')\n",
        "plt.xlabel('Species')\n",
        "plt.ylabel('Percentage of Instances')\n",
        "plt.title('Percentage of Instances in Each Species (Penguin Dataset)')\n",
        "plt.xticks(rotation=45, ha='right')  # Rotate x-axis labels for better visibility\n",
        "plt.tight_layout()"
      ]
    },
    {
      "cell_type": "code",
      "execution_count": null,
      "metadata": {},
      "outputs": [],
      "source": [
        "# Save the plot as a PNG file\n",
        "plt.savefig('penguin-classes.png')\n",
        "\n",
        "# Convert the PNG file to GIF using Pillow\n",
        "img = Image.open('penguin-classes.png')\n",
        "img.save('penguin-classes.gif', format='GIF')\n",
        "\n",
        "# Show the graph\n",
        "plt.show()"
      ]
    },
    {
      "cell_type": "markdown",
      "metadata": {},
      "source": [
        "## Penguin dataset"
      ]
    },
    {
      "cell_type": "code",
      "execution_count": null,
      "metadata": {},
      "outputs": [],
      "source": [
        "# Assuming the target in 'abalone_data' is 'Type'\n",
        "class_counts = abalone_data['Type'].value_counts(normalize=True) * 100"
      ]
    },
    {
      "cell_type": "code",
      "execution_count": null,
      "metadata": {},
      "outputs": [],
      "source": [
        "plt.figure(figsize=(8, 6))\n",
        "class_counts.plot(kind='bar', color='lavender')\n",
        "plt.xlabel('Type')\n",
        "plt.ylabel('Percentage of Instances')\n",
        "plt.title('Percentage of Instances in Each Type (Abalone Dataset)')\n",
        "plt.xticks(rotation=45, ha='right')\n",
        "plt.tight_layout()"
      ]
    },
    {
      "cell_type": "code",
      "execution_count": null,
      "metadata": {},
      "outputs": [],
      "source": [
        "# Save the plot as a PNG file\n",
        "plt.savefig('abalone-classes.png')\n",
        "\n",
        "# Convert the PNG file to GIF using Pillow\n",
        "img = Image.open('abalone-classes.png')\n",
        "img.save('abalone-classes.gif', format='GIF')\n",
        "\n",
        "# Show the graph\n",
        "plt.show()"
      ]
    },
    {
      "cell_type": "markdown",
      "metadata": {},
      "source": [
        "# Exercise 3"
      ]
    },
    {
      "cell_type": "markdown",
      "metadata": {},
      "source": [
        "## Abalone dataset"
      ]
    },
    {
      "cell_type": "code",
      "execution_count": 13,
      "metadata": {},
      "outputs": [],
      "source": [
        "# Split the dataset into features (X) and target variable (y)\n",
        "X_abalone = abalone_data[['LongestShell', 'Diameter', 'Height', 'WholeWeight', 'ShuckedWeight', 'VisceraWeight', 'ShellWeight', 'Rings']]\n",
        "y_abalone = abalone_data['Type']\n",
        "\n",
        "# Run the model\n",
        "models_run(X_abalone, y_abalone)"
      ]
    },
    {
      "cell_type": "markdown",
      "metadata": {},
      "source": [
        "## Penguin dataset"
      ]
    },
    {
      "cell_type": "code",
      "execution_count": null,
      "metadata": {},
      "outputs": [],
      "source": [
        "# Split the dataset into features (X) and target variable (y)\n",
        "X = penguin_data[['island', 'culmen_length_mm', 'culmen_depth_mm', 'flipper_length_mm', 'body_mass_g', 'sex']]\n",
        "y = penguin_data['species']\n",
        "\n",
        "# Run the model\n",
        "models_run(X, y)  "
      ]
    }
  ],
  "metadata": {
    "colab": {
      "provenance": []
    },
    "kernelspec": {
      "display_name": "Python 3",
      "name": "python3"
    },
    "language_info": {
      "codemirror_mode": {
        "name": "ipython",
        "version": 3
      },
      "file_extension": ".py",
      "mimetype": "text/x-python",
      "name": "python",
      "nbconvert_exporter": "python",
      "pygments_lexer": "ipython3",
      "version": "3.11.0"
    }
  },
  "nbformat": 4,
  "nbformat_minor": 0
}
